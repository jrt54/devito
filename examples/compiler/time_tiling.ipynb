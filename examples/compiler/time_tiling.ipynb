{
 "cells": [
  {
   "cell_type": "markdown",
   "metadata": {},
   "source": [
    "This tutorial compares two fundamental Devito DSE modes:\n",
    "\n",
    "* `dse` = skewing\n",
    "* `dse` = advanced\n",
    "\n",
    "We will use a trivial `Operator` that, at each time step, increments by 1 all points in the physical domain and the code produced in each case."
   ]
  },
  {
   "cell_type": "code",
   "execution_count": 1,
   "metadata": {},
   "outputs": [],
   "source": [
    "def _unidiff_output(expected, actual):\n",
    "    \"\"\"\n",
    "    Helper function. Returns a string containing the unified diff of two multiline strings.\n",
    "    \"\"\"\n",
    "\n",
    "    import difflib\n",
    "    expected=expected.splitlines(1)\n",
    "    actual=actual.splitlines(1)\n",
    "\n",
    "    diff=difflib.unified_diff(expected, actual)\n",
    "\n",
    "    return ''.join(diff)"
   ]
  },
  {
   "cell_type": "code",
   "execution_count": 2,
   "metadata": {},
   "outputs": [
    {
     "name": "stdout",
     "output_type": "stream",
     "text": [
      "Skewing pass\n",
      "Factorize\n",
      "--- \n",
      "+++ \n",
      "@@ -22,9 +22,9 @@\n",
      " } ;\n",
      " \n",
      " \n",
      "-int Kernel(struct dataobj *restrict u_skew_vec, const int time_M, const int time_m, struct profiler * timers, const int x_M, const int x_m, const int y_M, const int y_m)\n",
      "+int Kernel(struct dataobj *restrict u_adv_vec, const int time_M, const int time_m, struct profiler * timers, const int x_M, const int x_m, const int y_M, const int y_m)\n",
      " {\n",
      "-  float (*restrict u_skew)[u_skew_vec->size[1]][u_skew_vec->size[2]] __attribute__ ((aligned (64))) = (float (*)[u_skew_vec->size[1]][u_skew_vec->size[2]]) u_skew_vec->data;\n",
      "+  float (*restrict u_adv)[u_adv_vec->size[1]][u_adv_vec->size[2]] __attribute__ ((aligned (64))) = (float (*)[u_adv_vec->size[1]][u_adv_vec->size[2]]) u_adv_vec->data;\n",
      "   /* Flush denormal numbers to zero in hardware */\n",
      "   _MM_SET_DENORMALS_ZERO_MODE(_MM_DENORMALS_ZERO_ON);\n",
      "   _MM_SET_FLUSH_ZERO_MODE(_MM_FLUSH_ZERO_ON);\n",
      "@@ -33,12 +33,12 @@\n",
      "     struct timeval start_section0, end_section0;\n",
      "     gettimeofday(&start_section0, NULL);\n",
      "     /* Begin section0 */\n",
      "-    for (int x = x_m + 2; x <= x_M + 2; x += 1)\n",
      "+    for (int x = x_m; x <= x_M; x += 1)\n",
      "     {\n",
      "-      #pragma omp simd aligned(u_skew:32)\n",
      "-      for (int y = y_m + 2; y <= y_M + 2; y += 1)\n",
      "+      #pragma omp simd aligned(u_adv:32)\n",
      "+      for (int y = y_m; y <= y_M; y += 1)\n",
      "       {\n",
      "-        u_skew[time + 1][x - 2*time + 1][y - 2*time + 1] = u_skew[time][x - 2*time + 1][y - 2*time + 1] + 1;\n",
      "+        u_adv[time + 1][x + 1][y + 1] = u_adv[time][x + 1][y + 1] + 1;\n",
      "       }\n",
      "     }\n",
      "     /* End section0 */\n",
      "\n"
     ]
    }
   ],
   "source": [
    "from devito import Grid, TimeFunction, Eq, Operator\n",
    "\n",
    "grid = Grid(shape=(12000, 12000))\n",
    "u_skew = TimeFunction(name='u_skew', grid=grid, save=3)\n",
    "u_adv = TimeFunction(name='u_adv', grid=grid, save=3)\n",
    "\n",
    "\n",
    "op_skew = Operator(Eq(u_skew.forward, u_skew + 1), dse='skewing')\n",
    "#print(op_skew)\n",
    "string_1 = str(op_skew)\n",
    "\n",
    "op_adv = Operator(Eq(u_adv.forward, u_adv + 1), dse='advanced')\n",
    "#print(op_adv)\n",
    "string_2 = str(op_adv)\n",
    "\n",
    "print(_unidiff_output(string_1, string_2))"
   ]
  },
  {
   "cell_type": "code",
   "execution_count": null,
   "metadata": {},
   "outputs": [],
   "source": []
  },
  {
   "cell_type": "markdown",
   "metadata": {},
   "source": [
    "To run `op`, we have to \"`apply`\" it."
   ]
  },
  {
   "cell_type": "code",
   "execution_count": 3,
   "metadata": {},
   "outputs": [
    {
     "name": "stderr",
     "output_type": "stream",
     "text": [
      "Operator `Kernel` run in 0.27 s\n",
      "Operator `Kernel` run in 0.27 s\n"
     ]
    }
   ],
   "source": [
    "summary = op_skew.apply()\n",
    "summary = op_adv.apply()"
   ]
  },
  {
   "cell_type": "markdown",
   "metadata": {},
   "source": [
    "Under-the-hood, some code has been generated (`print(op)` to display the generated code), JIT-compiled, and executed. Since no additional arguments have been passed, `op` has used `u` as input. We can verify that the content of `u.data` is as expected"
   ]
  },
  {
   "cell_type": "code",
   "execution_count": 8,
   "metadata": {},
   "outputs": [
    {
     "name": "stdout",
     "output_type": "stream",
     "text": [
      "(time, x, y) (3, 12000, 12000)\n",
      "----------\n",
      "(time, x, y) (3, 12000, 12000)\n"
     ]
    }
   ],
   "source": [
    "print(u_skew.dimensions, u_skew.shape)\n",
    "print(\"----------\")\n",
    "print(u_adv.dimensions, u_adv.shape)"
   ]
  },
  {
   "cell_type": "code",
   "execution_count": 10,
   "metadata": {},
   "outputs": [
    {
     "name": "stdout",
     "output_type": "stream",
     "text": [
      "[[[0. 0. 0. ... 0. 0. 0.]\n",
      "  [0. 0. 0. ... 0. 0. 0.]\n",
      "  [0. 0. 0. ... 0. 0. 0.]\n",
      "  ...\n",
      "  [0. 0. 0. ... 0. 0. 0.]\n",
      "  [0. 0. 0. ... 0. 0. 0.]\n",
      "  [0. 0. 0. ... 0. 0. 0.]]\n",
      "\n",
      " [[0. 0. 0. ... 0. 0. 0.]\n",
      "  [0. 0. 0. ... 0. 0. 0.]\n",
      "  [0. 0. 1. ... 1. 1. 1.]\n",
      "  ...\n",
      "  [0. 0. 1. ... 1. 1. 1.]\n",
      "  [0. 0. 1. ... 1. 1. 1.]\n",
      "  [0. 0. 1. ... 1. 1. 1.]]\n",
      "\n",
      " [[1. 1. 1. ... 1. 1. 1.]\n",
      "  [1. 1. 1. ... 1. 1. 1.]\n",
      "  [1. 1. 2. ... 2. 2. 2.]\n",
      "  ...\n",
      "  [1. 1. 2. ... 2. 2. 2.]\n",
      "  [1. 1. 2. ... 2. 2. 2.]\n",
      "  [1. 1. 2. ... 2. 2. 2.]]]\n",
      "----------\n",
      "[[[0. 0. 0. ... 0. 0. 0.]\n",
      "  [0. 0. 0. ... 0. 0. 0.]\n",
      "  [0. 0. 0. ... 0. 0. 0.]\n",
      "  ...\n",
      "  [0. 0. 0. ... 0. 0. 0.]\n",
      "  [0. 0. 0. ... 0. 0. 0.]\n",
      "  [0. 0. 0. ... 0. 0. 0.]]\n",
      "\n",
      " [[1. 1. 1. ... 1. 1. 1.]\n",
      "  [1. 1. 1. ... 1. 1. 1.]\n",
      "  [1. 1. 1. ... 1. 1. 1.]\n",
      "  ...\n",
      "  [1. 1. 1. ... 1. 1. 1.]\n",
      "  [1. 1. 1. ... 1. 1. 1.]\n",
      "  [1. 1. 1. ... 1. 1. 1.]]\n",
      "\n",
      " [[2. 2. 2. ... 2. 2. 2.]\n",
      "  [2. 2. 2. ... 2. 2. 2.]\n",
      "  [2. 2. 2. ... 2. 2. 2.]\n",
      "  ...\n",
      "  [2. 2. 2. ... 2. 2. 2.]\n",
      "  [2. 2. 2. ... 2. 2. 2.]\n",
      "  [2. 2. 2. ... 2. 2. 2.]]]\n"
     ]
    }
   ],
   "source": [
    "print(u_skew.data)\n",
    "print(\"----------\")\n",
    "print(u_adv.data)"
   ]
  },
  {
   "cell_type": "markdown",
   "metadata": {},
   "source": [
    "In particular, we observe that:\n",
    "\n",
    "* `u` has size 3 along the time dimension, since it was built with `save=3`. Therefore `op` could only execute 2 timesteps, namely time=0 and time=1; given `Eq(u.forward, u + 1)`, executing time=2 would cause out-of-bounds access errors. Devito figures this out automatically and sets appropriate minimum and maximum iteration points.\n",
    "* All 16 points in each timeslice of the 4x4 `Grid` have been computed.\n",
    "\n",
    "To access all default arguments used by `op` *without* running the `Operator`, one can run"
   ]
  },
  {
   "cell_type": "code",
   "execution_count": 13,
   "metadata": {},
   "outputs": [
    {
     "name": "stdout",
     "output_type": "stream",
     "text": [
      "{'u_skew': <cparam 'P' (0x7f539a1ad9d0)>, 'time_m': 0, 'time_size': 3, 'time_M': 1, 'x_m': 0, 'x_size': 12000, 'x_M': 11999, 'y_m': 0, 'y_size': 12000, 'y_M': 11999, 'timers': <cparam 'P' (0x7f5468eeb5e8)>}\n",
      "{'u_adv': <cparam 'P' (0x7f539a207e68)>, 'time_m': 0, 'time_size': 3, 'time_M': 1, 'x_m': 0, 'x_size': 12000, 'x_M': 11999, 'y_m': 0, 'y_size': 12000, 'y_M': 11999, 'timers': <cparam 'P' (0x7f5468ddfab0)>}\n"
     ]
    }
   ],
   "source": [
    "print(op_skew.arguments())\n",
    "print(op_adv.arguments())"
   ]
  },
  {
   "cell_type": "markdown",
   "metadata": {},
   "source": [
    "`'u'` stores a pointer to the allocated data; `'timers'` stores a pointer to a data structure used for C-level performance profiling.\n",
    "\n",
    "One may want to replace some of these default arguments. For example, we could increase the minimum iteration point along the spatial Dimensions `x` and `y`, and execute only the very first timestep:"
   ]
  },
  {
   "cell_type": "code",
   "execution_count": null,
   "metadata": {},
   "outputs": [],
   "source": [
    "u.data[:] = 0.  # Explicit reset to initial value\n",
    "summary = op.apply(x_m=2, y_m=2, time_M=0)"
   ]
  },
  {
   "cell_type": "markdown",
   "metadata": {},
   "source": [
    "We look again at the computed data to convince ourselves that everything went as intended to go"
   ]
  },
  {
   "cell_type": "code",
   "execution_count": null,
   "metadata": {},
   "outputs": [],
   "source": [
    "u.data"
   ]
  },
  {
   "cell_type": "markdown",
   "metadata": {},
   "source": [
    "Given a generic `Dimension` `d`, the naming convention is such that:\n",
    "\n",
    "* `d_m` is the minimum iteration point\n",
    "* `d_M` is the maximum iteration point\n",
    "\n",
    "Hence, `op.apply(..., d_m=4, d_M=7, ...)` will run `op` in the compact interval `[4, 7]` along `d`. For historical reasons, `d=...` aliases to `d_M=...`; in many Devito examples it happens to see `op.apply(..., time=10, ...)` -- this is just equivalent to `op.apply(..., time_M=10, ...)`.\n",
    "\n",
    "If we try to specify an invalid iteration extreme, Devito will raise an exception."
   ]
  },
  {
   "cell_type": "code",
   "execution_count": null,
   "metadata": {},
   "outputs": [],
   "source": [
    "from devito.exceptions import InvalidArgument\n",
    "try:\n",
    "    op.apply(time_M=2)\n",
    "except InvalidArgument as e:\n",
    "    print(e)"
   ]
  },
  {
   "cell_type": "markdown",
   "metadata": {},
   "source": [
    "The same `Operator` can be applied to a different `TimeFunction`. For example:"
   ]
  },
  {
   "cell_type": "code",
   "execution_count": null,
   "metadata": {},
   "outputs": [],
   "source": [
    "u2 = TimeFunction(name='u', grid=grid, save=5)\n",
    "summary = op.apply(u=u2)\n",
    "u2.data"
   ]
  },
  {
   "cell_type": "markdown",
   "metadata": {},
   "source": [
    "Note that this was the third call to `op.apply`, but code generation and JIT-compilation only occurred upon the very first call.\n",
    "\n",
    "There is one relevant case in which the maximum iteration point along the time dimension must be specified -- whenever `save` is unset, as in such a case the `Operator` wouldn't know for how many iterations to run."
   ]
  },
  {
   "cell_type": "code",
   "execution_count": null,
   "metadata": {},
   "outputs": [],
   "source": [
    "v = TimeFunction(name='v', grid=grid)\n",
    "op2 = Operator(Eq(v.forward, v + 1))\n",
    "try:\n",
    "    op2.apply()\n",
    "except ValueError as e:\n",
    "    print(e)"
   ]
  },
  {
   "cell_type": "code",
   "execution_count": null,
   "metadata": {},
   "outputs": [],
   "source": [
    "summary = op2.apply(time_M=4)\n",
    "v.data"
   ]
  },
  {
   "cell_type": "markdown",
   "metadata": {},
   "source": [
    "The `summary` variable can be inspected to retrieve performance metrics."
   ]
  },
  {
   "cell_type": "code",
   "execution_count": null,
   "metadata": {},
   "outputs": [],
   "source": [
    "summary"
   ]
  },
  {
   "cell_type": "markdown",
   "metadata": {},
   "source": [
    "We observe that basically all entries except for the execution time are fixed at 0. This is because by default Devito avoids to compute performance metrics, to minimize the processing time before returning control to the user (in complex `Operators`, the processing time to retrieve, for instance, the operation count or the memory footprint could be significant). To compute all performance metrics, a user could either export the environment variable `DEVITO_PROFILING` to `'advanced'` or change the profiling level programmatically *before* the `Operator` is constructed"
   ]
  },
  {
   "cell_type": "code",
   "execution_count": null,
   "metadata": {},
   "outputs": [],
   "source": [
    "from devito import configuration\n",
    "configuration['profiling'] = 'advanced'\n",
    "\n",
    "op = Operator(Eq(u.forward, u*u + 1))\n",
    "op.apply()"
   ]
  },
  {
   "cell_type": "code",
   "execution_count": null,
   "metadata": {},
   "outputs": [],
   "source": []
  },
  {
   "cell_type": "code",
   "execution_count": null,
   "metadata": {},
   "outputs": [],
   "source": []
  },
  {
   "cell_type": "code",
   "execution_count": null,
   "metadata": {},
   "outputs": [],
   "source": []
  }
 ],
 "metadata": {
  "kernelspec": {
   "display_name": "Python 3",
   "language": "python",
   "name": "python3"
  },
  "language_info": {
   "codemirror_mode": {
    "name": "ipython",
    "version": 3
   },
   "file_extension": ".py",
   "mimetype": "text/x-python",
   "name": "python",
   "nbconvert_exporter": "python",
   "pygments_lexer": "ipython3",
   "version": "3.6.8"
  },
  "varInspector": {
   "cols": {
    "lenName": 16,
    "lenType": 16,
    "lenVar": 40
   },
   "kernels_config": {
    "python": {
     "delete_cmd_postfix": "",
     "delete_cmd_prefix": "del ",
     "library": "var_list.py",
     "varRefreshCmd": "print(var_dic_list())"
    },
    "r": {
     "delete_cmd_postfix": ") ",
     "delete_cmd_prefix": "rm(",
     "library": "var_list.r",
     "varRefreshCmd": "cat(var_dic_list()) "
    }
   },
   "position": {
    "height": "459.85px",
    "left": "1723.22px",
    "right": "20px",
    "top": "120px",
    "width": "352.767px"
   },
   "types_to_exclude": [
    "module",
    "function",
    "builtin_function_or_method",
    "instance",
    "_Feature"
   ],
   "window_display": true
  }
 },
 "nbformat": 4,
 "nbformat_minor": 2
}
